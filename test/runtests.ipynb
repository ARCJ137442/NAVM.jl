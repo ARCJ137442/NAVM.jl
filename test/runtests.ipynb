{
 "cells": [
  {
   "cell_type": "markdown",
   "metadata": {},
   "source": [
    "# NAVM.jl 测试"
   ]
  },
  {
   "cell_type": "markdown",
   "metadata": {},
   "source": [
    "✨Powered by [**IpynbCompile.jl**](https://github.com/ARCJ137442/IpynbCompile.jl)"
   ]
  },
  {
   "cell_type": "markdown",
   "metadata": {},
   "source": [
    "## 模块导入"
   ]
  },
  {
   "cell_type": "markdown",
   "metadata": {},
   "source": [
    "模块清单：\n",
    "\n",
    "- JuNarsese\n",
    "- NAVM\n",
    "- Test"
   ]
  },
  {
   "cell_type": "code",
   "execution_count": 1,
   "metadata": {},
   "outputs": [
    {
     "name": "stdout",
     "output_type": "stream",
     "text": [
      "\u001b[92m\u001b[1mJuNarsese v2.6.3\u001b[22m\u001b[39m\n"
     ]
    },
    {
     "name": "stderr",
     "output_type": "stream",
     "text": [
      "\u001b[32m\u001b[1mPrecompiling\u001b[22m\u001b[39m NAVM\n",
      "\u001b[36m\u001b[1m        Info\u001b[22m\u001b[39m Given NAVM was explicitly requested, output will be shown live \u001b[0K\n",
      "\u001b[0K\u001b[92m\u001b[1mJuNarsese v2.6.3\u001b[22m\u001b[39m\n",
      "\u001b[32m  ✓ \u001b[39mNAVM\n",
      "  1 dependency successfully precompiled in 7 seconds. 4 already precompiled.\n",
      "  \u001b[33m1\u001b[39m dependency had output during precompilation:\u001b[33m\n",
      "┌ \u001b[39mNAVM\u001b[33m\n",
      "│  \u001b[39m[Output was shown above]\u001b[33m\n",
      "└  \u001b[39m\n",
      "\u001b[36m\u001b[1m┌ \u001b[22m\u001b[39m\u001b[36m\u001b[1mInfo: \u001b[22m\u001b[39mNAVM导入成功！\n",
      "\u001b[36m\u001b[1m│ \u001b[22m\u001b[39m  names(NAVM) =\n",
      "\u001b[36m\u001b[1m│ \u001b[22m\u001b[39m   34-element Vector{Symbol}:\n",
      "\u001b[36m\u001b[1m│ \u001b[22m\u001b[39m    Symbol(\"@nair\")\n",
      "\u001b[36m\u001b[1m│ \u001b[22m\u001b[39m    Symbol(\"@nair_rule\")\n",
      "\u001b[36m\u001b[1m│ \u001b[22m\u001b[39m    :Backend\n",
      "\u001b[36m\u001b[1m│ \u001b[22m\u001b[39m    :BackendModule\n",
      "\u001b[36m\u001b[1m│ \u001b[22m\u001b[39m    :CMD_CYC\n",
      "\u001b[36m\u001b[1m│ \u001b[22m\u001b[39m    ⋮\n",
      "\u001b[36m\u001b[1m│ \u001b[22m\u001b[39m    :source_type\n",
      "\u001b[36m\u001b[1m│ \u001b[22m\u001b[39m    :target_type\n",
      "\u001b[36m\u001b[1m│ \u001b[22m\u001b[39m    :transform\n",
      "\u001b[36m\u001b[1m│ \u001b[22m\u001b[39m    :try_transform\n",
      "\u001b[36m\u001b[1m└ \u001b[22m\u001b[39m    :tryparse_cmd\n"
     ]
    },
    {
     "data": {
      "text/plain": [
       "\"all\""
      ]
     },
     "execution_count": 1,
     "metadata": {},
     "output_type": "execute_result"
    }
   ],
   "source": [
    "include(\"#import.jl\")"
   ]
  },
  {
   "cell_type": "markdown",
   "metadata": {},
   "source": [
    "## 测试 / 指令集"
   ]
  },
  {
   "cell_type": "markdown",
   "metadata": {},
   "source": [
    "### 正常解析"
   ]
  },
  {
   "cell_type": "markdown",
   "metadata": {},
   "source": [
    "SAV"
   ]
  },
  {
   "cell_type": "code",
   "execution_count": 2,
   "metadata": {},
   "outputs": [
    {
     "data": {
      "text/plain": [
       "\u001b[32m\u001b[1mTest Passed\u001b[22m\u001b[39m"
      ]
     },
     "execution_count": 2,
     "metadata": {},
     "output_type": "execute_result"
    }
   ],
   "source": [
    "let cmd::CMD_SAV = parse_cmd(\"SAV NARS-1 test/nars1.nal\"),\n",
    "    # 有空格路径 可以\n",
    "    cmd_allowed = tryparse_cmd(\"SAV NARS-1 C:\\\\Program Files\\\\NARS\\\\data.nal\")\n",
    "    @test cmd.target == \"NARS-1\"\n",
    "    @test cmd.path == \"test/nars1.nal\"\n",
    "    @test cmd_allowed.target == \"NARS-1\"\n",
    "    @test cmd_allowed.path == raw\"C:\\Program Files\\NARS\\data.nal\"\n",
    "end"
   ]
  },
  {
   "cell_type": "markdown",
   "metadata": {},
   "source": [
    "LOA"
   ]
  },
  {
   "cell_type": "code",
   "execution_count": 3,
   "metadata": {},
   "outputs": [
    {
     "data": {
      "text/plain": [
       "\u001b[32m\u001b[1mTest Passed\u001b[22m\u001b[39m"
      ]
     },
     "execution_count": 3,
     "metadata": {},
     "output_type": "execute_result"
    }
   ],
   "source": [
    "let cmd::CMD_LOA = parse_cmd(\"LOA NARS-1 test/nars1.nal\"),\n",
    "    # 有空格路径 可以\n",
    "    cmd_allowed = tryparse_cmd(\"LOA NARS-1 C:\\\\Program Files\\\\NARS\\\\data.nal\")\n",
    "    @test cmd.target == \"NARS-1\"\n",
    "    @test cmd.path == \"test/nars1.nal\"\n",
    "    @test cmd_allowed.target == \"NARS-1\"\n",
    "    @test cmd_allowed.path == raw\"C:\\Program Files\\NARS\\data.nal\"\n",
    "end"
   ]
  },
  {
   "cell_type": "markdown",
   "metadata": {},
   "source": [
    "RES"
   ]
  },
  {
   "cell_type": "code",
   "execution_count": 4,
   "metadata": {},
   "outputs": [
    {
     "data": {
      "text/plain": [
       "\u001b[32m\u001b[1mTest Passed\u001b[22m\u001b[39m"
      ]
     },
     "execution_count": 4,
     "metadata": {},
     "output_type": "execute_result"
    }
   ],
   "source": [
    "let cmd::CMD_RES = parse_cmd(\"RES memory\"),\n",
    "    # 使用一个连续标识符 可以\n",
    "    cmd_allowed::CMD_RES = parse_cmd(\"RES ^memory!\"),\n",
    "    # 有其它冗余参数 可以\n",
    "    cmd_surplussed::CMD_RES = parse_cmd(\"RES memory test/nars1.nal\")\n",
    "    @test cmd.target isa String\n",
    "    @test cmd.target == \"memory\"\n",
    "    @test !isnothing(cmd_allowed)\n",
    "    @test cmd_surplussed.target == \"memory\"\n",
    "end"
   ]
  },
  {
   "cell_type": "markdown",
   "metadata": {},
   "source": [
    "NSE"
   ]
  },
  {
   "cell_type": "code",
   "execution_count": 5,
   "metadata": {},
   "outputs": [
    {
     "data": {
      "text/plain": [
       "\u001b[32m\u001b[1mTest Passed\u001b[22m\u001b[39m"
      ]
     },
     "execution_count": 5,
     "metadata": {},
     "output_type": "execute_result"
    }
   ],
   "source": [
    "let cmd::CMD_NSE = parse_cmd(\"NSE <A --> B>.\"),\n",
    "    # 必须符合CommonNarsese语法\n",
    "    cmd_allowed = tryparse_cmd(\"NSE A\"),\n",
    "    cmd_wrong = tryparse_cmd(\"NSE NARS-1 test/nars1.nal\"),\n",
    "    cmd_wrong2 = tryparse_cmd(\"NSE 1-1\")\n",
    "    @test cmd.narsese isa JuNarsese.Sentence\n",
    "    @test !isnothing(cmd_allowed)\n",
    "    @test isnothing(cmd_wrong)\n",
    "    @test isnothing(cmd_wrong2)\n",
    "end"
   ]
  },
  {
   "cell_type": "markdown",
   "metadata": {},
   "source": [
    "NEW"
   ]
  },
  {
   "cell_type": "code",
   "execution_count": 6,
   "metadata": {},
   "outputs": [
    {
     "data": {
      "text/plain": [
       "\u001b[32m\u001b[1mTest Passed\u001b[22m\u001b[39m"
      ]
     },
     "execution_count": 6,
     "metadata": {},
     "output_type": "execute_result"
    }
   ],
   "source": [
    "let cmd::CMD_NEW = parse_cmd(\"NEW reasoner-2\"),\n",
    "    # 多个空格可以\n",
    "    cmd_allowed1 = tryparse_cmd(\"NEW    reasoner-?123\"),\n",
    "    # 附加尾缀可以\n",
    "    cmd_allowed2 = tryparse_cmd(\"NEW 123123 ???\"),\n",
    "    # 用tab不行\n",
    "    cmd_wrong1 = tryparse_cmd(\"NEW\\treasoner\"),\n",
    "    # 用换行不行\n",
    "    cmd_wrong2 = tryparse_cmd(\"NEW \\n123123 ???\")\n",
    "    @test cmd.name == \"reasoner-2\"\n",
    "    @test !isnothing(cmd_allowed1)\n",
    "    @test !isnothing(cmd_allowed2)\n",
    "    @test isnothing(cmd_wrong1)\n",
    "    @test isnothing(cmd_wrong2)\n",
    "end"
   ]
  },
  {
   "cell_type": "markdown",
   "metadata": {},
   "source": [
    "DEL"
   ]
  },
  {
   "cell_type": "code",
   "execution_count": 7,
   "metadata": {},
   "outputs": [
    {
     "data": {
      "text/plain": [
       "\u001b[32m\u001b[1mTest Passed\u001b[22m\u001b[39m"
      ]
     },
     "execution_count": 7,
     "metadata": {},
     "output_type": "execute_result"
    }
   ],
   "source": [
    "let cmd::CMD_DEL = parse_cmd(\"DEL reasoner-2\"),\n",
    "    # 多个空格可以\n",
    "    cmd_allowed1 = tryparse_cmd(\"DEL    reasoner-?123\"),\n",
    "    # 附加尾缀可以\n",
    "    cmd_allowed2 = tryparse_cmd(\"DEL 123123 ???\"),\n",
    "    # 用tab不行\n",
    "    cmd_wrong1 = tryparse_cmd(\"DEL\\treasoner\"),\n",
    "    # 用换行不行\n",
    "    cmd_wrong2 = tryparse_cmd(\"DEL \\n123123 ???\")\n",
    "    @test cmd.name == \"reasoner-2\"\n",
    "    @test !isnothing(cmd_allowed1)\n",
    "    @test !isnothing(cmd_allowed2)\n",
    "    @test isnothing(cmd_wrong1)\n",
    "    @test isnothing(cmd_wrong2)\n",
    "end"
   ]
  },
  {
   "cell_type": "markdown",
   "metadata": {},
   "source": [
    "CYC"
   ]
  },
  {
   "cell_type": "code",
   "execution_count": 8,
   "metadata": {},
   "outputs": [
    {
     "data": {
      "text/plain": [
       "\u001b[32m\u001b[1mTest Passed\u001b[22m\u001b[39m"
      ]
     },
     "execution_count": 8,
     "metadata": {},
     "output_type": "execute_result"
    }
   ],
   "source": [
    "let cmd::CMD_CYC = parse_cmd(\"CYC 1\"),\n",
    "    # 多长度 可以\n",
    "    cmd_allowed = parse_cmd(\"CYC    1\"),\n",
    "    # 零步长 可以\n",
    "    cmd_allowed2 = parse_cmd(\"CYC 0\"),\n",
    "    # 字符串 不可以\n",
    "    cmd_wrong = tryparse_cmd(\"CYC This cmd may causes an error.\"),\n",
    "    # 浮点数 只取整数部分\n",
    "    cmd_wrong2 = tryparse_cmd(\"CYC 1.123\"),\n",
    "    # 负数 不可以\n",
    "    cmd_wrong3 = tryparse_cmd(\"CYC -1\")\n",
    "    @test cmd.cycles isa Integer\n",
    "    @test cmd.cycles == 1\n",
    "    @test isnothing(cmd_wrong)\n",
    "    @test cmd_wrong2.cycles == 1\n",
    "    @test isnothing(cmd_wrong3)\n",
    "end"
   ]
  },
  {
   "cell_type": "markdown",
   "metadata": {},
   "source": [
    "VOL"
   ]
  },
  {
   "cell_type": "code",
   "execution_count": 9,
   "metadata": {},
   "outputs": [
    {
     "data": {
      "text/plain": [
       "\u001b[32m\u001b[1mTest Passed\u001b[22m\u001b[39m"
      ]
     },
     "execution_count": 9,
     "metadata": {},
     "output_type": "execute_result"
    }
   ],
   "source": [
    "let cmd::CMD_VOL = parse_cmd(\"VOL 1\"),\n",
    "    # 多长度 可以\n",
    "    cmd_allowed = parse_cmd(\"VOL    1\"),\n",
    "    # 零大小 可以\n",
    "    cmd_allowed2 = parse_cmd(\"VOL 0\"),\n",
    "    # 字符串 不可以\n",
    "    cmd_wrong = tryparse_cmd(\"VOL This cmd may causes an error.\"),\n",
    "    # 浮点数 只取整数部分\n",
    "    cmd_wrong2 = tryparse_cmd(\"VOL 1.123\"),\n",
    "    # 负数 不可以\n",
    "    cmd_wrong3 = tryparse_cmd(\"VOL -1\")\n",
    "    @test cmd.volume isa Integer\n",
    "    @test cmd.volume == 1\n",
    "    @test isnothing(cmd_wrong)\n",
    "    @test cmd_wrong2.volume == 1\n",
    "    @test isnothing(cmd_wrong3)\n",
    "end"
   ]
  },
  {
   "cell_type": "markdown",
   "metadata": {},
   "source": [
    "INF"
   ]
  },
  {
   "cell_type": "code",
   "execution_count": 10,
   "metadata": {},
   "outputs": [
    {
     "data": {
      "text/plain": [
       "\u001b[32m\u001b[1mTest Passed\u001b[22m\u001b[39m"
      ]
     },
     "execution_count": 10,
     "metadata": {},
     "output_type": "execute_result"
    }
   ],
   "source": [
    "let cmd::CMD_INF = parse_cmd(\"INF buffer\"),\n",
    "    # 使用一个连续标识符 可以\n",
    "    cmd_allowed::CMD_INF = parse_cmd(\"INF ^buffer!\"),\n",
    "    # 有其它冗余参数 可以\n",
    "    cmd_surplussed::CMD_INF = parse_cmd(\"INF buffer test/nars1.nal\")\n",
    "    @test cmd.flag isa String\n",
    "    @test cmd.flag == \"buffer\"\n",
    "    @test !isnothing(cmd_allowed)\n",
    "    @test cmd_surplussed.flag == \"buffer\"\n",
    "end"
   ]
  },
  {
   "cell_type": "markdown",
   "metadata": {},
   "source": [
    "HLP"
   ]
  },
  {
   "cell_type": "code",
   "execution_count": 11,
   "metadata": {},
   "outputs": [
    {
     "data": {
      "text/plain": [
       "\u001b[32m\u001b[1mTest Passed\u001b[22m\u001b[39m"
      ]
     },
     "execution_count": 11,
     "metadata": {},
     "output_type": "execute_result"
    }
   ],
   "source": [
    "let cmd::CMD_HLP = parse_cmd(\"HLP NSE\"),\n",
    "    # 使用一个连续标识符 可以\n",
    "    cmd_allowed::CMD_HLP = parse_cmd(\"HLP ^NSE!\"),\n",
    "    # 有其它冗余参数 可以\n",
    "    cmd_surplussed::CMD_HLP = parse_cmd(\"HLP NSE test/nars1.nal\")\n",
    "    @test cmd.flag isa String\n",
    "    @test cmd.flag == \"NSE\"\n",
    "    @test !isnothing(cmd_allowed)\n",
    "    @test cmd_surplussed.flag == \"NSE\"\n",
    "end"
   ]
  },
  {
   "cell_type": "markdown",
   "metadata": {},
   "source": [
    "REM"
   ]
  },
  {
   "cell_type": "code",
   "execution_count": 12,
   "metadata": {},
   "outputs": [
    {
     "data": {
      "text/plain": [
       "\u001b[32m\u001b[1mTest Passed\u001b[22m\u001b[39m"
      ]
     },
     "execution_count": 12,
     "metadata": {},
     "output_type": "execute_result"
    }
   ],
   "source": [
    "let cmd::CMD_REM = parse_cmd(\"REM 这是一段注释\"),\n",
    "    # 其它特殊符号 可以\n",
    "    cmd_allowed::CMD_REM = parse_cmd(\"REM ^这是一段注释!\"),\n",
    "    # 有空格 可以\n",
    "    cmd_surplussed::CMD_REM = parse_cmd(\"REM 这是一段注释 这是冗余的部分\")\n",
    "    @test cmd.content isa String\n",
    "    @test cmd.content == \"这是一段注释\"\n",
    "    @test !isnothing(cmd_allowed)\n",
    "    @test cmd_surplussed.content == \"这是一段注释\"\n",
    "end"
   ]
  },
  {
   "cell_type": "markdown",
   "metadata": {},
   "source": [
    "## 测试 / 自定义指令"
   ]
  },
  {
   "cell_type": "code",
   "execution_count": 16,
   "metadata": {},
   "outputs": [
    {
     "name": "stderr",
     "output_type": "stream",
     "text": [
      "\u001b[36m\u001b[1m┌ \u001b[22m\u001b[39m\u001b[36m\u001b[1mInfo: \u001b[22m\u001b[39m自定义指令已捕获！\n",
      "\u001b[36m\u001b[1m└ \u001b[22m\u001b[39m  args = (\"CUS This is my custom cmd.\", \"This is my custom cmd.\")\n"
     ]
    },
    {
     "data": {
      "text/plain": [
       "\u001b[32m\u001b[1mTest Passed\u001b[22m\u001b[39m"
      ]
     },
     "execution_count": 16,
     "metadata": {},
     "output_type": "execute_result"
    }
   ],
   "source": [
    "# 自定义指令\n",
    "import NAVM.NAIR: form_cmd\n",
    "struct CMD_CUS <: NAIR_CMD\n",
    "    args\n",
    "end\n",
    "function form_cmd(::Val{:CUS}, args...)\n",
    "    @info \"自定义指令已捕获！\" args\n",
    "    CMD_CUS(args)\n",
    "end\n",
    "let cus = parse_cmd(\"CUS This is my custom cmd.\")\n",
    "    @test cus isa NAIR_CMD\n",
    "    @test cus.args isa Tuple\n",
    "end"
   ]
  },
  {
   "cell_type": "markdown",
   "metadata": {},
   "source": [
    "## 尝试自编译"
   ]
  },
  {
   "cell_type": "code",
   "execution_count": 17,
   "metadata": {},
   "outputs": [
    {
     "data": {
      "text/plain": [
       "6345"
      ]
     },
     "execution_count": 17,
     "metadata": {},
     "output_type": "execute_result"
    }
   ],
   "source": [
    "# %ignore-cell\n",
    "using IpynbCompile: compile_notebook\n",
    "THIS_PATH = \"runtests.ipynb\"\n",
    "TARGET_PATH = \"runtests.jl\"\n",
    "compile_notebook(THIS_PATH, TARGET_PATH)"
   ]
  }
 ],
 "metadata": {
  "kernelspec": {
   "display_name": "Julia 1.10.0",
   "language": "julia",
   "name": "julia-1.10"
  },
  "language_info": {
   "file_extension": ".jl",
   "mimetype": "application/julia",
   "name": "julia",
   "version": "1.10.0"
  },
  "orig_nbformat": 4
 },
 "nbformat": 4,
 "nbformat_minor": 2
}
